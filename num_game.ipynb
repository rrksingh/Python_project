{
 "cells": [
  {
   "cell_type": "code",
   "execution_count": 1,
   "id": "34b66e38",
   "metadata": {},
   "outputs": [],
   "source": [
    "def num_game(num):\n",
    "    reversed_num = 0\n",
    "    number=num\n",
    "    if num<=999 and num >=100:\n",
    "        print('valid number:')\n",
    "        a=str(num)\n",
    "        if a[0]>a[1] and a[1]>a[2]:\n",
    "            print('number is decerasing oder:')\n",
    "        else :\n",
    "            return('number is not decreasing oder:')\n",
    "            \n",
    "    \n",
    "        while int(num) != 0:\n",
    "            digit = num % 10\n",
    "            reversed_num = reversed_num * 10 + digit\n",
    "            num //= 10\n",
    "\n",
    "       # return(\"Reversed Number: \" + str(reversed_num))\n",
    "        diff=number-reversed_num\n",
    "        a=str(diff)\n",
    "        a = int(a[::-1])\n",
    "        add = diff+a\n",
    "        return(add)\n",
    "    else:\n",
    "        print('invalid number:')\n",
    "\n",
    "    "
   ]
  },
  {
   "cell_type": "code",
   "execution_count": null,
   "id": "f42ce18f",
   "metadata": {},
   "outputs": [],
   "source": []
  }
 ],
 "metadata": {
  "kernelspec": {
   "display_name": "Python 3 (ipykernel)",
   "language": "python",
   "name": "python3"
  },
  "language_info": {
   "codemirror_mode": {
    "name": "ipython",
    "version": 3
   },
   "file_extension": ".py",
   "mimetype": "text/x-python",
   "name": "python",
   "nbconvert_exporter": "python",
   "pygments_lexer": "ipython3",
   "version": "3.11.3"
  }
 },
 "nbformat": 4,
 "nbformat_minor": 5
}
