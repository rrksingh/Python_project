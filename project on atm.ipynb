{
 "cells": [
  {
   "cell_type": "code",
   "execution_count": null,
   "id": "b6feaab7",
   "metadata": {},
   "outputs": [
    {
     "name": "stdout",
     "output_type": "stream",
     "text": [
      "Welcome! plese insert your atm card\n",
      "\n",
      "Please choose a option: \n",
      "\n",
      "0 cash withdrawal\n",
      "1 balance check\n",
      "2 cash deposit\n",
      "3 exit\n"
     ]
    }
   ],
   "source": [
    "services = ['cash withdrawal','balance check','cash deposit','exit']\n",
    "total_balance=1000\n",
    "\n",
    "while True:\n",
    "    print('Welcome! plese insert your atm card')\n",
    "\n",
    "    print()\n",
    "    print('Please choose a option: ')\n",
    "    print()\n",
    "\n",
    "    for i,j in enumerate(services):\n",
    "        print(i,j)\n",
    "\n",
    "    num=int(input('serivces:'))\n",
    "\n",
    "\n",
    "\n",
    "    if num==0:\n",
    "        cash_withdrwal=int(input('enter amount withdarwal:'))\n",
    "        total_balance=total_balance-cash_withdrwal\n",
    "        print('total_balance',total_balance)\n",
    "        print('..........')\n",
    "\n",
    "    elif num==1:\n",
    "        balance_check=total_balance\n",
    "        print(balance_check)\n",
    "        print('..........')\n",
    "\n",
    "    elif num==2:\n",
    "        cash_deposit=int(input('enter amount deposit:'))\n",
    "        total_balance=total_balance+cash_deposit\n",
    "        print('total_balance',total_balance)\n",
    "        print('...........')\n",
    "\n",
    "    elif num==3:\n",
    "        exit=('thanku for our serives')\n",
    "        print(exit)\n",
    "        \n",
    "        break\n"
   ]
  },
  {
   "cell_type": "code",
   "execution_count": null,
   "id": "a497ae80",
   "metadata": {},
   "outputs": [],
   "source": []
  },
  {
   "cell_type": "code",
   "execution_count": null,
   "id": "3caef2ab",
   "metadata": {},
   "outputs": [],
   "source": []
  },
  {
   "cell_type": "code",
   "execution_count": null,
   "id": "02faf265",
   "metadata": {},
   "outputs": [],
   "source": []
  },
  {
   "cell_type": "code",
   "execution_count": null,
   "id": "af9ad31c",
   "metadata": {},
   "outputs": [],
   "source": []
  },
  {
   "cell_type": "code",
   "execution_count": null,
   "id": "d30537fe",
   "metadata": {},
   "outputs": [],
   "source": []
  },
  {
   "cell_type": "code",
   "execution_count": null,
   "id": "e26cd6ac",
   "metadata": {},
   "outputs": [],
   "source": []
  },
  {
   "cell_type": "code",
   "execution_count": null,
   "id": "b6ba8ad9",
   "metadata": {},
   "outputs": [],
   "source": []
  },
  {
   "cell_type": "code",
   "execution_count": null,
   "id": "68e7952d",
   "metadata": {},
   "outputs": [],
   "source": []
  },
  {
   "cell_type": "code",
   "execution_count": null,
   "id": "4c5f2ffe",
   "metadata": {},
   "outputs": [],
   "source": []
  },
  {
   "cell_type": "code",
   "execution_count": null,
   "id": "4fd7e846",
   "metadata": {},
   "outputs": [],
   "source": []
  },
  {
   "cell_type": "code",
   "execution_count": null,
   "id": "3672ace8",
   "metadata": {},
   "outputs": [],
   "source": []
  },
  {
   "cell_type": "code",
   "execution_count": null,
   "id": "2c902684",
   "metadata": {},
   "outputs": [],
   "source": []
  }
 ],
 "metadata": {
  "kernelspec": {
   "display_name": "Python 3 (ipykernel)",
   "language": "python",
   "name": "python3"
  },
  "language_info": {
   "codemirror_mode": {
    "name": "ipython",
    "version": 3
   },
   "file_extension": ".py",
   "mimetype": "text/x-python",
   "name": "python",
   "nbconvert_exporter": "python",
   "pygments_lexer": "ipython3",
   "version": "3.11.3"
  }
 },
 "nbformat": 4,
 "nbformat_minor": 5
}
