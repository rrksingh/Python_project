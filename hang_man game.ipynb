{
 "cells": [
  {
   "cell_type": "code",
   "execution_count": null,
   "id": "10b00c27",
   "metadata": {
    "collapsed": true
   },
   "outputs": [
    {
     "name": "stdout",
     "output_type": "stream",
     "text": [
      "hint: color\n",
      "_ _ _ _ _\n"
     ]
    }
   ],
   "source": [
    "word = 'black'\n",
    "hint = 'color'\n",
    "print('hint:',hint)\n",
    "lives = 8\n",
    "blank_space = []\n",
    "number_of_underscore = len(word)\n",
    "\n",
    "for i in range(number_of_underscore):\n",
    "    blank_space.append('_')\n",
    "   \n",
    "uscores = ' '.join(blank_space)\n",
    "print(uscores)\n",
    "while lives > 0:\n",
    "    \n",
    "    guess_letter = input('Guess a letter: ').lower()\n",
    "    \n",
    "    if guess_letter.isnumeric():\n",
    "        print('Enter an alphabet..')\n",
    "        \n",
    "        continue\n",
    "        \n",
    "    if guess_letter in word: \n",
    "        print('matched')\n",
    "        print('Remaining lives: ',lives)\n",
    "        \n",
    "        index = word.find(guess_letter)\n",
    "        \n",
    "\n",
    "\n",
    "        blank_space[index] = guess_letter\n",
    "\n",
    "        uscores = ' '.join(blank_space)\n",
    "        print(uscores)\n",
    "   \n",
    "    else:\n",
    "        print('Wrong Guess')\n",
    "        lives = lives-1\n",
    "        print('Remaining lives: ',lives)\n",
    "        print('\\n',uscores)\n",
    "       \n",
    "    if lives==0:\n",
    "        \n",
    "        print('you lost your chance Game over..😥')\n",
    "    elif '_' not in blank_space:\n",
    "        print('game won😘')\n",
    "        break\n",
    "    \n",
    "       \n",
    "  \n"
   ]
  },
  {
   "cell_type": "code",
   "execution_count": null,
   "id": "30f8dafd",
   "metadata": {},
   "outputs": [],
   "source": []
  },
  {
   "cell_type": "code",
   "execution_count": null,
   "id": "25f45efb",
   "metadata": {},
   "outputs": [],
   "source": []
  },
  {
   "cell_type": "code",
   "execution_count": null,
   "id": "9a1dbf67",
   "metadata": {},
   "outputs": [],
   "source": []
  },
  {
   "cell_type": "code",
   "execution_count": null,
   "id": "6ad0808e",
   "metadata": {},
   "outputs": [],
   "source": []
  },
  {
   "cell_type": "code",
   "execution_count": null,
   "id": "10a9619e",
   "metadata": {},
   "outputs": [],
   "source": []
  },
  {
   "cell_type": "code",
   "execution_count": null,
   "id": "ba6d6496",
   "metadata": {},
   "outputs": [],
   "source": []
  },
  {
   "cell_type": "code",
   "execution_count": null,
   "id": "cd70b28b",
   "metadata": {},
   "outputs": [],
   "source": []
  },
  {
   "cell_type": "code",
   "execution_count": null,
   "id": "f5bba352",
   "metadata": {},
   "outputs": [],
   "source": []
  },
  {
   "cell_type": "code",
   "execution_count": null,
   "id": "8a6978ad",
   "metadata": {},
   "outputs": [],
   "source": []
  },
  {
   "cell_type": "code",
   "execution_count": null,
   "id": "d58f0e34",
   "metadata": {},
   "outputs": [],
   "source": []
  },
  {
   "cell_type": "code",
   "execution_count": null,
   "id": "0ec84006",
   "metadata": {},
   "outputs": [],
   "source": []
  },
  {
   "cell_type": "code",
   "execution_count": null,
   "id": "431212ba",
   "metadata": {},
   "outputs": [],
   "source": []
  }
 ],
 "metadata": {
  "kernelspec": {
   "display_name": "Python 3 (ipykernel)",
   "language": "python",
   "name": "python3"
  },
  "language_info": {
   "codemirror_mode": {
    "name": "ipython",
    "version": 3
   },
   "file_extension": ".py",
   "mimetype": "text/x-python",
   "name": "python",
   "nbconvert_exporter": "python",
   "pygments_lexer": "ipython3",
   "version": "3.11.3"
  }
 },
 "nbformat": 4,
 "nbformat_minor": 5
}
