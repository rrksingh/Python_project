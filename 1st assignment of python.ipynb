{
 "cells": [
  {
   "cell_type": "markdown",
   "id": "67a4d2dc",
   "metadata": {},
   "source": [
    "#python assignment1"
   ]
  },
  {
   "cell_type": "markdown",
   "id": "9b816a7e",
   "metadata": {},
   "source": [
    "# Q1"
   ]
  },
  {
   "cell_type": "code",
   "execution_count": 6,
   "id": "80a06607",
   "metadata": {},
   "outputs": [
    {
     "name": "stdout",
     "output_type": "stream",
     "text": [
      "enter first name:Ravi\n",
      "enter last name:Ranjan Kumar\n",
      "enter email id:rrk7808746144@gmail.com\n",
      "enter course name:Data Science\n"
     ]
    }
   ],
   "source": [
    "first_name=input('enter first name:')\n",
    "last_name=input('enter last name:')\n",
    "email_id=input('enter email id:')\n",
    "course_name=input('enter course name:')"
   ]
  },
  {
   "cell_type": "markdown",
   "id": "952614f5",
   "metadata": {},
   "source": [
    "# Q2"
   ]
  },
  {
   "cell_type": "code",
   "execution_count": 20,
   "id": "0c835086",
   "metadata": {},
   "outputs": [
    {
     "name": "stdout",
     "output_type": "stream",
     "text": [
      "Ravi Ranjan Kumar\n",
      "rrk7808746144@gmail.com\n",
      "Data science\n"
     ]
    }
   ],
   "source": [
    "print(f'{first_name.title()} {last_name.title()}\\n{email_id.lower()}\\n{course_name.capitalize()}')"
   ]
  },
  {
   "cell_type": "markdown",
   "id": "a257281e",
   "metadata": {},
   "source": [
    "# Q3"
   ]
  },
  {
   "cell_type": "code",
   "execution_count": 51,
   "id": "d82b771a",
   "metadata": {},
   "outputs": [
    {
     "name": "stdout",
     "output_type": "stream",
     "text": [
      "enter your full name:mr ravi ranjan kumar\n"
     ]
    }
   ],
   "source": [
    "name=input('enter your full name:')"
   ]
  },
  {
   "cell_type": "code",
   "execution_count": 52,
   "id": "3915f000",
   "metadata": {},
   "outputs": [
    {
     "data": {
      "text/plain": [
       "'mr ravi ranjan kumar'"
      ]
     },
     "execution_count": 52,
     "metadata": {},
     "output_type": "execute_result"
    }
   ],
   "source": [
    "name"
   ]
  },
  {
   "cell_type": "code",
   "execution_count": 53,
   "id": "4476f0b8",
   "metadata": {},
   "outputs": [
    {
     "data": {
      "text/plain": [
       "'Mr'"
      ]
     },
     "execution_count": 53,
     "metadata": {},
     "output_type": "execute_result"
    }
   ],
   "source": [
    "name[0:2].capitalize()"
   ]
  },
  {
   "cell_type": "code",
   "execution_count": 55,
   "id": "23869839",
   "metadata": {},
   "outputs": [
    {
     "data": {
      "text/plain": [
       "'Ravi ranjan kumar'"
      ]
     },
     "execution_count": 55,
     "metadata": {},
     "output_type": "execute_result"
    }
   ],
   "source": [
    "name[3:21].capitalize()"
   ]
  },
  {
   "cell_type": "markdown",
   "id": "9a2db240",
   "metadata": {},
   "source": [
    "# Q4"
   ]
  },
  {
   "cell_type": "code",
   "execution_count": 42,
   "id": "c99d16f1",
   "metadata": {},
   "outputs": [
    {
     "name": "stdout",
     "output_type": "stream",
     "text": [
      "There was an old owl who lived in an oak tree. Every day, he observed incidents that occurred around\n",
      "him.\n",
      "Yesterday, he watched as a young boy helped an old man carry a heavy basket. Today, he saw a\n",
      "young girl shouting at her mother. The more he saw, the less he spoke.\n",
      "As the days went on, he spoke\n",
      "less but heard more. The old owl heard people talking and telling stories.\n",
      "He heard a woman saying\n",
      "an elephant jumped over a fence. He heard a man saying that he had never made a mistake.\n",
      "The old\n",
      "owl had seen and heard what happened to people. There were some who became better, some who\n",
      "became worse. But the old owl in the tree had become wiser, each and every day.\n",
      "\n"
     ]
    }
   ],
   "source": [
    "text=\"\"\"There was an old owl who lived in an oak tree. Every day, he observed incidents that occurred around\n",
    "him.\\nYesterday, he watched as a young boy helped an old man carry a heavy basket. Today, he saw a\n",
    "young girl shouting at her mother. The more he saw, the less he spoke.\\nAs the days went on, he spoke\n",
    "less but heard more. The old owl heard people talking and telling stories.\\nHe heard a woman saying\n",
    "an elephant jumped over a fence. He heard a man saying that he had never made a mistake.\\nThe old\n",
    "owl had seen and heard what happened to people. There were some who became better, some who\n",
    "became worse. But the old owl in the tree had become wiser, each and every day.\n",
    "\"\"\"\n",
    "print(text)"
   ]
  },
  {
   "cell_type": "markdown",
   "id": "9c0b3268",
   "metadata": {},
   "source": [
    "# Q5"
   ]
  },
  {
   "cell_type": "code",
   "execution_count": 45,
   "id": "00c1bc8f",
   "metadata": {},
   "outputs": [
    {
     "name": "stdout",
     "output_type": "stream",
     "text": [
      "Once Upon A Time, In A Mysterious Forest, There Was An Adventurous Young Girl\n",
      "Named Alice. She Was Always Curious About Everything And Could Never Resist\n",
      "Exploring New Places.\n",
      "One Day, While Wandering Through The Forest, Alice Came\n",
      "Across A Tiny Door That Was Hidden Behind Some Bushes. She Couldn'T Resist Her\n",
      "Curiosity And Decided To Open The Door. To Her Amazement, The Door Led To A\n",
      "Magical World!\n",
      "The New World Was Filled With Bright Colors And Strange\n",
      "Creatures. Alice Met A Talking Rabbit Who Carried A Pocket Watch And Was Always In A\n",
      "Hurry. She Followed The Rabbit And Embarked On A Series Of Unforseen\n",
      "Adventures.\n",
      "In Her Journey, Alice Encountered A Cheshire Cat, Who Graced Her\n",
      "With A Mysterious Smile And Spoke In Riddles. She Also Helped A Group Of Tea Cups And\n",
      "Tea Pots Have A Tea Party, Which Was Quite The Unusual Sight To See!\n"
     ]
    }
   ],
   "source": [
    "text=\"\"\"oNcE upoN A tIMe, iN a mYsTeRIouS fOrEst, tHEre wAS aN aDvEnTuRoUS yOUnG gIRL\n",
    "nAMeD aLICe. ShE wAS aLwAyS cURiOuS aBOuT eVErYtHInG aNd cOULd nEvEr rESiST\n",
    "eXPlORiNg nEW pLaCeS.\\nOnE dAy, wHilE wANdErInG tHroUGh tHE fOrEsT, aLICe cAMe\n",
    "aCRoSS a tInY dOoR tHaT wAs hIdDEn bEHinD sOmE bUShES. sHE cOuLdN't rESisT hER\n",
    "cUriOSItY aNd dEcIDeD tO oPeN tHe dOOr. tO hER aMaZEmeNT, tHe dOoR lEd tO a\n",
    "mAGiCaL wORlD!\\nThE nEw wOrLd wAs fIlLeD wItH bRiGhT cOlOrS aNd sTRaNge\n",
    "cReAtuReS. aLiCe mEt a tALkiNg rAbBiT wHo cArRiEd a pOcKet wATcH aNd wAs aLwAyS iN a\n",
    "hURrY. sHE fOLLoWEd tHe rAbBiT aNd eMbArKEd oN a sErIeS oF uNfORsEeN\n",
    "aDvEnTuReS.\\nIn hER jOuRnEy, aLiCe eNcOUnteReD a cHEsHirE cAT, wHo gRAcEd hER\n",
    "wITh a mYsTErIoUs sMiLe aND sPoKe iN rIDDles. sHe aLsO hELpEd a gRoUP oF tEa cUps aNd\n",
    "tEa pOtS hAVe a tEa pARtY, wHicH wAs qUiTe tHE uNusUal sIgHt tO sEE!\"\"\"\n",
    "print(text.title())"
   ]
  },
  {
   "cell_type": "markdown",
   "id": "d78a4f22",
   "metadata": {},
   "source": [
    "# Q6"
   ]
  },
  {
   "cell_type": "code",
   "execution_count": 50,
   "id": "55eab2bf",
   "metadata": {},
   "outputs": [
    {
     "data": {
      "text/plain": [
       "7"
      ]
     },
     "execution_count": 50,
     "metadata": {},
     "output_type": "execute_result"
    }
   ],
   "source": [
    "text=\"\"\"BMW, a renowned German automotive manufacturer, has left an indelible mark on the Indian\n",
    "automotive landscape. With its striking designs and innovative engineering, BMW has become a\n",
    "symbol of luxury and performance in the Indian market. Indian consumers have wholeheartedly\n",
    "embraced the brand, appreciating its cutting-edge technology, comfort, and style. The BMW brand\n",
    "exudes an air of exclusivity and sophistication, appealing to the discerning Indian clientele who seek\n",
    "nothing but the best. Over the years, BMW has tailored its offeringd to cater to the diverse tastse and prefernce \n",
    "of the Indian populaces, solidifying its position as a leading luxury acrmaker in the country.\n",
    "whether navigation bustling city streets or cruising along picturesque highways,the prence of a \n",
    "BMW on Indian roads commands attention and admiration,reflecting the brand's allure and \n",
    "timeless appeal to the Indian automotive enthusiast.\"\"\"\n",
    "text.count('Indian')"
   ]
  },
  {
   "cell_type": "markdown",
   "id": "bf5591c1",
   "metadata": {},
   "source": [
    "# Q7"
   ]
  },
  {
   "cell_type": "code",
   "execution_count": 4,
   "id": "6baf8494",
   "metadata": {},
   "outputs": [
    {
     "name": "stdout",
     "output_type": "stream",
     "text": [
      "Once upon a time, there was a brave knight named Sir Arthur. He liv\n",
      "ed in a mighty castle on top of a steep hill. Sir Arthur was known \n",
      "for his fearlessness and his sword skills. He had a loyal horse named \n",
      "Thunder and a wise mentor named Merlin. Together they embarked on m\n",
      "any adventures and fought fierce dragons to protect the kingdom. Sir Arth\n",
      "ur's couageous deeds became legendary and inspired generation to come.\n"
     ]
    }
   ],
   "source": [
    "text=\"\"\"Once++upon++a++time,++there++was++a++brave++knight++named++Sir++Arthur.++He++liv\n",
    "ed++in++a++mighty++castle++on++top++of++a++steep++hill.++Sir++Arthur++was++known++\n",
    "for++his++fearlessness++and++his++sword++skills.++He++had++a++loyal++horse++named++\n",
    "Thunder++and++a++wise++mentor++named++Merlin.++Together++they++embarked++on++m\n",
    "any++adventures++and++fought++fierce++dragons++to++protect++the++kingdom.++Sir++Arth\n",
    "ur's++couageous++deeds++became++legendary++and++inspired++generation++to++come.\"\"\"\n",
    "print(text.replace('++',' '))"
   ]
  },
  {
   "cell_type": "code",
   "execution_count": null,
   "id": "b05292d8",
   "metadata": {},
   "outputs": [],
   "source": []
  }
 ],
 "metadata": {
  "kernelspec": {
   "display_name": "Python 3 (ipykernel)",
   "language": "python",
   "name": "python3"
  },
  "language_info": {
   "codemirror_mode": {
    "name": "ipython",
    "version": 3
   },
   "file_extension": ".py",
   "mimetype": "text/x-python",
   "name": "python",
   "nbconvert_exporter": "python",
   "pygments_lexer": "ipython3",
   "version": "3.11.3"
  }
 },
 "nbformat": 4,
 "nbformat_minor": 5
}
