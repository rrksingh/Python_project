{
 "cells": [
  {
   "cell_type": "code",
   "execution_count": 11,
   "id": "c74a4e2a",
   "metadata": {},
   "outputs": [],
   "source": [
    "import math\n",
    "\n",
    "def circle():\n",
    "    \n",
    "    choices = ['Area','Circumference','Diameter','all']\n",
    "    for i,choice in enumerate(choices):\n",
    "        print(i,choice)\n",
    "        \n",
    "    option = int(input('Enter your choice: ')) \n",
    "    radius = float(input('Enter the radius in cms'))\n",
    "    \n",
    "    area = math.pi*radius**2 \n",
    "    circumference = 2*math.pi*radius\n",
    "    diameter = 2*radius\n",
    "    \n",
    "    if option==0:\n",
    "        return area\n",
    "    elif option==1:\n",
    "        return circumference\n",
    "    elif option==2:\n",
    "        return diameter\n",
    "    elif option==3:\n",
    "        return f'Area= {area}sqcm; Circumference={circumference}cms;Diameter={diameter}cms'\n",
    "        \n",
    "    \n",
    "    \n",
    "  "
   ]
  },
  {
   "cell_type": "code",
   "execution_count": 12,
   "id": "a83d48ca",
   "metadata": {},
   "outputs": [
    {
     "name": "stdout",
     "output_type": "stream",
     "text": [
      "0 Area\n",
      "1 Circumference\n",
      "2 Diameter\n",
      "3 all\n",
      "Enter your choice: 0\n",
      "Enter the radius in cms4\n"
     ]
    },
    {
     "data": {
      "text/plain": [
       "50.26548245743669"
      ]
     },
     "execution_count": 12,
     "metadata": {},
     "output_type": "execute_result"
    }
   ],
   "source": [
    "circle()"
   ]
  },
  {
   "cell_type": "code",
   "execution_count": 13,
   "id": "51296af6",
   "metadata": {},
   "outputs": [
    {
     "name": "stdout",
     "output_type": "stream",
     "text": [
      "0 Area\n",
      "1 Circumference\n",
      "2 Diameter\n",
      "3 all\n",
      "Enter your choice: 3\n",
      "Enter the radius in cms5\n"
     ]
    },
    {
     "data": {
      "text/plain": [
       "'Area= 78.53981633974483sqcm; Circumference=31.41592653589793cms;Diameter=10.0cms'"
      ]
     },
     "execution_count": 13,
     "metadata": {},
     "output_type": "execute_result"
    }
   ],
   "source": [
    "circle()"
   ]
  },
  {
   "cell_type": "code",
   "execution_count": 14,
   "id": "1528c9c7",
   "metadata": {},
   "outputs": [],
   "source": [
    "\n",
    "def square():\n",
    "    \n",
    "    choices = ['Area','Perimeter','Diagonal','all']\n",
    "    for i,choice in enumerate(choices):\n",
    "        print(i,choice)\n",
    "        \n",
    "    option = int(input('Enter your choice: ')) \n",
    "    side = int(input('Enter the side in cms'))\n",
    "    \n",
    "    area = side**2\n",
    "    perimeter = 4*side\n",
    "    diagonal = side*0.5\n",
    "    \n",
    "    if option==0:\n",
    "        return area\n",
    "    elif option==1:\n",
    "        return perimeter\n",
    "    elif option==2:\n",
    "        return diagonal\n",
    "    elif option==3:\n",
    "        return f'Area= {area}sqcm; Perimeter={perimeter}cms;Diagonal={diagonal}cms'\n",
    "        \n",
    "    \n",
    "    "
   ]
  },
  {
   "cell_type": "code",
   "execution_count": 15,
   "id": "3eb01dfc",
   "metadata": {},
   "outputs": [
    {
     "name": "stdout",
     "output_type": "stream",
     "text": [
      "0 Area\n",
      "1 Perimeter\n",
      "2 Diagonal\n",
      "3 all\n",
      "Enter your choice: 3\n",
      "Enter the side in cms5\n"
     ]
    },
    {
     "data": {
      "text/plain": [
       "'Area= 25sqcm; Perimeter=20cms;Diagonal=2.5cms'"
      ]
     },
     "execution_count": 15,
     "metadata": {},
     "output_type": "execute_result"
    }
   ],
   "source": [
    "square()"
   ]
  },
  {
   "cell_type": "code",
   "execution_count": 16,
   "id": "da30c927",
   "metadata": {},
   "outputs": [
    {
     "name": "stdout",
     "output_type": "stream",
     "text": [
      "0 Area\n",
      "1 Circumference\n",
      "2 Diameter\n",
      "3 all\n",
      "Enter your choice: 1\n",
      "Enter the radius in cms8\n"
     ]
    },
    {
     "data": {
      "text/plain": [
       "50.26548245743669"
      ]
     },
     "execution_count": 16,
     "metadata": {},
     "output_type": "execute_result"
    }
   ],
   "source": [
    "circle()"
   ]
  },
  {
   "cell_type": "code",
   "execution_count": 17,
   "id": "8de8f18e",
   "metadata": {},
   "outputs": [
    {
     "name": "stdout",
     "output_type": "stream",
     "text": [
      "0 Area\n",
      "1 Perimeter\n",
      "2 Diagonal\n",
      "3 all\n",
      "Enter your choice: 2\n",
      "Enter the side in cms4\n"
     ]
    },
    {
     "data": {
      "text/plain": [
       "2.0"
      ]
     },
     "execution_count": 17,
     "metadata": {},
     "output_type": "execute_result"
    }
   ],
   "source": [
    "square()"
   ]
  },
  {
   "cell_type": "code",
   "execution_count": 18,
   "id": "62be8a34",
   "metadata": {},
   "outputs": [
    {
     "name": "stdout",
     "output_type": "stream",
     "text": [
      "0 Area\n",
      "1 Circumference\n",
      "2 Diameter\n",
      "3 all\n",
      "Enter your choice: 3\n",
      "Enter the radius in cms9\n"
     ]
    },
    {
     "data": {
      "text/plain": [
       "'Area= 254.46900494077323sqcm; Circumference=56.548667764616276cms;Diameter=18.0cms'"
      ]
     },
     "execution_count": 18,
     "metadata": {},
     "output_type": "execute_result"
    }
   ],
   "source": [
    "circle()"
   ]
  },
  {
   "cell_type": "code",
   "execution_count": 10,
   "id": "827857de",
   "metadata": {},
   "outputs": [],
   "source": [
    "def rect(length,width,measurement=None):\n",
    "    '''length and width in cms. Measurements are area ,perimeter ,diagonal or all as a string values.'''\n",
    "    \n",
    "    import math\n",
    "    \n",
    "    area = length*width\n",
    "    perimeter = 2*(length+width)\n",
    "    diagonal = math.sqrt((length**2+width**2))\n",
    "    \n",
    "    if measurement =='area':\n",
    "        return area\n",
    "    elif measurement =='perimeter':\n",
    "        return perimeter\n",
    "    elif measurement =='diagonal':\n",
    "        return diagonal\n",
    "    elif measurement =='all':\n",
    "        return f'Area={area};Perimeter={perimeter};Diagonal={diagonal}'\n",
    "    "
   ]
  },
  {
   "cell_type": "code",
   "execution_count": 11,
   "id": "604cbada",
   "metadata": {},
   "outputs": [
    {
     "data": {
      "text/plain": [
       "50"
      ]
     },
     "execution_count": 11,
     "metadata": {},
     "output_type": "execute_result"
    }
   ],
   "source": [
    "rect(10,5,measurement='area')"
   ]
  },
  {
   "cell_type": "code",
   "execution_count": 12,
   "id": "af044999",
   "metadata": {},
   "outputs": [
    {
     "data": {
      "text/plain": [
       "'Area=32;Perimeter=24;Diagonal=8.94427190999916'"
      ]
     },
     "execution_count": 12,
     "metadata": {},
     "output_type": "execute_result"
    }
   ],
   "source": [
    "rect(8,4,measurement='all')"
   ]
  },
  {
   "cell_type": "code",
   "execution_count": null,
   "id": "27554e18",
   "metadata": {},
   "outputs": [],
   "source": []
  },
  {
   "cell_type": "code",
   "execution_count": null,
   "id": "bbc069d7",
   "metadata": {},
   "outputs": [],
   "source": []
  },
  {
   "cell_type": "code",
   "execution_count": null,
   "id": "a3914e29",
   "metadata": {},
   "outputs": [],
   "source": []
  },
  {
   "cell_type": "code",
   "execution_count": null,
   "id": "1ab99daa",
   "metadata": {},
   "outputs": [],
   "source": []
  },
  {
   "cell_type": "code",
   "execution_count": null,
   "id": "905a2578",
   "metadata": {},
   "outputs": [],
   "source": []
  },
  {
   "cell_type": "code",
   "execution_count": null,
   "id": "48e437bf",
   "metadata": {},
   "outputs": [],
   "source": []
  },
  {
   "cell_type": "code",
   "execution_count": null,
   "id": "21fb30e9",
   "metadata": {},
   "outputs": [],
   "source": []
  },
  {
   "cell_type": "code",
   "execution_count": null,
   "id": "223d0ad0",
   "metadata": {},
   "outputs": [],
   "source": []
  },
  {
   "cell_type": "code",
   "execution_count": null,
   "id": "4b3bc8af",
   "metadata": {},
   "outputs": [],
   "source": []
  },
  {
   "cell_type": "code",
   "execution_count": null,
   "id": "a36ce3dd",
   "metadata": {},
   "outputs": [],
   "source": []
  }
 ],
 "metadata": {
  "kernelspec": {
   "display_name": "Python 3 (ipykernel)",
   "language": "python",
   "name": "python3"
  },
  "language_info": {
   "codemirror_mode": {
    "name": "ipython",
    "version": 3
   },
   "file_extension": ".py",
   "mimetype": "text/x-python",
   "name": "python",
   "nbconvert_exporter": "python",
   "pygments_lexer": "ipython3",
   "version": "3.11.3"
  }
 },
 "nbformat": 4,
 "nbformat_minor": 5
}
