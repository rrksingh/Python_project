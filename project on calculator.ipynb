{
 "cells": [
  {
   "cell_type": "code",
   "execution_count": 1,
   "id": "36c84fd0",
   "metadata": {},
   "outputs": [],
   "source": [
    "def calculator(a,b,cal=None):\n",
    "    if cal=='add':\n",
    "        add=a+b\n",
    "        return add\n",
    "    elif cal=='sub':\n",
    "        sub=a-b\n",
    "        return sub\n",
    "    elif cal=='mul':\n",
    "        mul=a*b\n",
    "        return mul\n",
    "    elif cal=='div':\n",
    "        div=a/b\n",
    "        return div\n",
    "    elif cal=='mod':\n",
    "        mod=a%b\n",
    "        return mod\n",
    "    elif cal=='exp':\n",
    "        exp=a**b\n",
    "        return exp\n",
    "    elif cal=='f_div':\n",
    "        f_div=a//b\n",
    "        return f_div\n",
    "\n",
    "\n"
   ]
  },
  {
   "cell_type": "code",
   "execution_count": 6,
   "id": "bd47fc3c",
   "metadata": {},
   "outputs": [
    {
     "data": {
      "text/plain": [
       "9"
      ]
     },
     "execution_count": 6,
     "metadata": {},
     "output_type": "execute_result"
    }
   ],
   "source": [
    "calculator(4,5,cal='add')"
   ]
  },
  {
   "cell_type": "code",
   "execution_count": null,
   "id": "9e3e04fb",
   "metadata": {},
   "outputs": [],
   "source": []
  }
 ],
 "metadata": {
  "kernelspec": {
   "display_name": "Python 3 (ipykernel)",
   "language": "python",
   "name": "python3"
  },
  "language_info": {
   "codemirror_mode": {
    "name": "ipython",
    "version": 3
   },
   "file_extension": ".py",
   "mimetype": "text/x-python",
   "name": "python",
   "nbconvert_exporter": "python",
   "pygments_lexer": "ipython3",
   "version": "3.11.3"
  }
 },
 "nbformat": 4,
 "nbformat_minor": 5
}
