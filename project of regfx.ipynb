{
 "cells": [
  {
   "cell_type": "raw",
   "id": "24a4df87",
   "metadata": {},
   "source": [
    "1. Write a Python program to convert a date of yyyy-mm-dd format to dd-mm-yyyy format.\n"
   ]
  },
  {
   "cell_type": "code",
   "execution_count": 1,
   "id": "813c4b23",
   "metadata": {},
   "outputs": [
    {
     "name": "stdout",
     "output_type": "stream",
     "text": [
      "Enter a date (yyyy-mm-dd): 2023-02-08\n",
      "Converted date: 08-02-2023\n"
     ]
    }
   ],
   "source": [
    "from datetime import datetime\n",
    "\n",
    "def convert_date(input_date):\n",
    "        date_obj = datetime.strptime(input_date, \"%Y-%m-%d\")\n",
    "            \n",
    "        formatted_date = date_obj.strftime(\"%d-%m-%Y\")\n",
    "        \n",
    "        return formatted_date\n",
    "\n",
    "input_date = input(\"Enter a date (yyyy-mm-dd): \")\n",
    "\n",
    "result = convert_date(input_date)\n",
    "print(\"Converted date: \" + result)\n"
   ]
  },
  {
   "cell_type": "raw",
   "id": "3f352496",
   "metadata": {},
   "source": [
    "2.Write a Python program that matches a string that has an a followed by two to three 'b'."
   ]
  },
  {
   "cell_type": "code",
   "execution_count": 2,
   "id": "3bf06e84",
   "metadata": {},
   "outputs": [],
   "source": [
    "import re\n",
    "txt='abc defc fdcbbs 1025  abcde bcbe890 bbed bbbedc'\n",
    "pattern=r'a(b{2,3})'\n",
    "x=re.finditer(pattern,txt)\n",
    "for i in x:\n",
    "    print(i)\n",
    "\n"
   ]
  },
  {
   "cell_type": "raw",
   "id": "9137f55f",
   "metadata": {},
   "source": [
    "3. Write a Python program that matches a string that has an a followed by two to three 'b'.\n"
   ]
  },
  {
   "cell_type": "code",
   "execution_count": 4,
   "id": "7e2885a7",
   "metadata": {},
   "outputs": [
    {
     "name": "stdout",
     "output_type": "stream",
     "text": [
      "<re.Match object; span=(16, 19), match='102'>\n",
      "<re.Match object; span=(19, 20), match='5'>\n",
      "<re.Match object; span=(32, 35), match='890'>\n"
     ]
    }
   ],
   "source": [
    "import re\n",
    "txt='abc defc fdcbbs 1025  abcde bcbe890 bbed bbbedc'\n",
    "y=r'[0-9]{1,3}'\n",
    "x=re.finditer(y,txt)\n",
    "for i in x:\n",
    "    print(i)\n"
   ]
  },
  {
   "cell_type": "raw",
   "id": "6122fb55",
   "metadata": {},
   "source": [
    "5. Write a Python program to validate the email id according to given condition\n",
    ": Must start with at least one or more alphabets/digits/numbers or\n",
    "special characters($%#&*_.) followed by @,\n",
    "then again one or more occurrence of alphabets followed by ’.’\n",
    "and at last ends with minimum 2 alphabets.\n"
   ]
  },
  {
   "cell_type": "code",
   "execution_count": 5,
   "id": "4b705169",
   "metadata": {},
   "outputs": [
    {
     "name": "stdout",
     "output_type": "stream",
     "text": [
      "enter email:rrk7808746144@gmail.com\n",
      "valid email id \n"
     ]
    }
   ],
   "source": [
    "txt=input('enter email:')\n",
    "x=re.search(r'[\\w$%#&*_.]+[@][a-zA-Z]+\\.[a-zA-Z]{2,}',txt)\n",
    "if x:\n",
    "    print('valid email id ')\n",
    "else:\n",
    "     print('Invalid email id ')\n",
    "\n",
    "    "
   ]
  },
  {
   "cell_type": "raw",
   "id": "d3602469",
   "metadata": {},
   "source": [
    "6. Write a Python program to validate the password having minimum 8 characters long,\n",
    "contains any dort of letters,numbers,\n",
    "$#@% and ends with a number."
   ]
  },
  {
   "cell_type": "code",
   "execution_count": 6,
   "id": "a5d3c39e",
   "metadata": {},
   "outputs": [
    {
     "name": "stdout",
     "output_type": "stream",
     "text": [
      "enter password:rrk888$$258\n",
      "correct password\n"
     ]
    }
   ],
   "source": [
    "txt=input('enter password:')\n",
    "x=re.search(r'[\\w]+[$%#&*]+[\\d]+$',txt)\n",
    "if len (str(x))<8:\n",
    "    print('Invalid password id ')\n",
    "else:\n",
    "    if x:\n",
    "        print('correct password')\n",
    "    else:\n",
    "        print('incorrect password')\n",
    "    "
   ]
  },
  {
   "cell_type": "code",
   "execution_count": null,
   "id": "0b3720be",
   "metadata": {},
   "outputs": [],
   "source": []
  }
 ],
 "metadata": {
  "kernelspec": {
   "display_name": "Python 3 (ipykernel)",
   "language": "python",
   "name": "python3"
  },
  "language_info": {
   "codemirror_mode": {
    "name": "ipython",
    "version": 3
   },
   "file_extension": ".py",
   "mimetype": "text/x-python",
   "name": "python",
   "nbconvert_exporter": "python",
   "pygments_lexer": "ipython3",
   "version": "3.11.3"
  }
 },
 "nbformat": 4,
 "nbformat_minor": 5
}
