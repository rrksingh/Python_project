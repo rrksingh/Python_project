{
 "cells": [
  {
   "cell_type": "code",
   "execution_count": null,
   "id": "152caa9c",
   "metadata": {},
   "outputs": [],
   "source": [
    "customer_pin={101: ['rrk', 2000], 201: ['munna',5000],205: ['rohit',100],304:['sohan',10000],\n",
    "              606:['ravi',3800]}\n",
    "\n",
    "services = ['cash withdrawal','balance check','cash deposit','exit']\n",
    "\n",
    "switch = True\n",
    "while switch:\n",
    "    pin=int(input('enter your pin:'))\n",
    "\n",
    "    if pin in customer_pin.keys():\n",
    "        print(f'Welcome {customer_pin[pin][0]}')\n",
    "        \n",
    "    \n",
    "    else:\n",
    "        print('sorry!your pin is wrong..')\n",
    "        continue\n",
    "        \n",
    "    while True:\n",
    "\n",
    "        print()\n",
    "        print('Please choose a option: ')\n",
    "        print()\n",
    "\n",
    "        for i,j in enumerate(services):\n",
    "            print(i,j)\n",
    "\n",
    "        num=int(input('serivces:'))\n",
    "\n",
    "        if num==0:\n",
    "            cash_withdrwal=int(input('enter amount withdarwal:'))\n",
    "            customer_pin[pin][1]=customer_pin[pin][1]-cash_withdrwal\n",
    "            print('total balance',customer_pin[pin][1])\n",
    "            print()\n",
    "\n",
    "        elif num==1:\n",
    "            balance_check=customer_pin[pin][1]\n",
    "            print(customer_pin[pin][1])\n",
    "            print()\n",
    "\n",
    "        elif num==2:\n",
    "            cash_deposit=int(input('enter amount deposit:'))\n",
    "            customer_pin[pin][1]=customer_pin[pin][1]+cash_deposit\n",
    "            print('total_balance',customer_pin[pin][1])\n",
    "            print()\n",
    "\n",
    "        elif num==3:\n",
    "            switch = False\n",
    "            exit=('thanku for our serives')\n",
    "            print(exit)\n",
    "            break\n",
    "            \n",
    "                 \n",
    "        \n",
    "                  \n"
   ]
  },
  {
   "cell_type": "code",
   "execution_count": null,
   "id": "3583a1e8",
   "metadata": {},
   "outputs": [],
   "source": []
  },
  {
   "cell_type": "code",
   "execution_count": null,
   "id": "b73d3c2c",
   "metadata": {},
   "outputs": [],
   "source": []
  }
 ],
 "metadata": {
  "kernelspec": {
   "display_name": "Python 3 (ipykernel)",
   "language": "python",
   "name": "python3"
  },
  "language_info": {
   "codemirror_mode": {
    "name": "ipython",
    "version": 3
   },
   "file_extension": ".py",
   "mimetype": "text/x-python",
   "name": "python",
   "nbconvert_exporter": "python",
   "pygments_lexer": "ipython3",
   "version": "3.11.3"
  }
 },
 "nbformat": 4,
 "nbformat_minor": 5
}
