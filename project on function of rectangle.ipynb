{
 "cells": [
  {
   "cell_type": "code",
   "execution_count": 7,
   "id": "1d91b328",
   "metadata": {},
   "outputs": [],
   "source": [
    "def rect(length,width,measurement):\n",
    "    '''length and width in cms. Measurements are area ,perimeter ,diagonal or all as a string values.'''\n",
    "    \n",
    "    import math\n",
    "    \n",
    "    area = length*width\n",
    "    perimeter = 2*(length+width)\n",
    "    diagonal = math.sqrt((length**2+width**2))\n",
    "    \n",
    "    if measurement =='area':\n",
    "        return area\n",
    "    if measurement =='perimeter':\n",
    "        return perimeter\n",
    "    if measurement =='diagonal':\n",
    "        return diagonal\n",
    "    if measurement =='all':\n",
    "        return f'Area={area};Perimeter={perimeter};Diagonal={diagonal}'\n",
    "    "
   ]
  },
  {
   "cell_type": "code",
   "execution_count": 8,
   "id": "2a61991c",
   "metadata": {},
   "outputs": [
    {
     "data": {
      "text/plain": [
       "50"
      ]
     },
     "execution_count": 8,
     "metadata": {},
     "output_type": "execute_result"
    }
   ],
   "source": [
    "rect(10,5,measurement='area')"
   ]
  },
  {
   "cell_type": "code",
   "execution_count": 9,
   "id": "e6cad139",
   "metadata": {},
   "outputs": [
    {
     "data": {
      "text/plain": [
       "'Area=32;Perimeter=24;Diagonal=8.94427190999916'"
      ]
     },
     "execution_count": 9,
     "metadata": {},
     "output_type": "execute_result"
    }
   ],
   "source": [
    "rect(8,4,measurement='all')"
   ]
  },
  {
   "cell_type": "code",
   "execution_count": null,
   "id": "75f1f60a",
   "metadata": {},
   "outputs": [],
   "source": []
  }
 ],
 "metadata": {
  "kernelspec": {
   "display_name": "Python 3 (ipykernel)",
   "language": "python",
   "name": "python3"
  },
  "language_info": {
   "codemirror_mode": {
    "name": "ipython",
    "version": 3
   },
   "file_extension": ".py",
   "mimetype": "text/x-python",
   "name": "python",
   "nbconvert_exporter": "python",
   "pygments_lexer": "ipython3",
   "version": "3.11.3"
  }
 },
 "nbformat": 4,
 "nbformat_minor": 5
}
